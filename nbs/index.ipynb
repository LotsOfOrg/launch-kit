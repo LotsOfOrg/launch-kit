{
 "cells": [
  {
   "cell_type": "code",
   "metadata": {},
   "outputs": [],
   "source": "#| hide\nfrom launch_kit.auth import *\nfrom launch_kit.routes.auth import *"
  },
  {
   "cell_type": "markdown",
   "metadata": {},
   "outputs": [],
   "source": "# launch-kit\n\n> Production-ready SaaS toolkit for FastHTML applications - simple utilities, not frameworks"
  },
  {
   "cell_type": "markdown",
   "metadata": {},
   "outputs": [],
   "source": "## Overview\n\nLaunch Kit provides composable utilities for building production-ready SaaS applications with FastHTML. Following Answer.AI's philosophy of simplicity and transparency, it offers pre-built functionality without hiding the underlying framework.\n\n**Core Principles:**\n- 🎯 **No Magic** - Everything is explicit and inspectable\n- 🧩 **Composable** - Import only what you need\n- 🔍 **Transparent** - You can see exactly what's happening\n- ⚡ **FastHTML-First** - Enhances FastHTML, doesn't wrap it\n- 🎨 **Override-Friendly** - Sensible defaults, full customization"
  },
  {
   "cell_type": "markdown",
   "metadata": {},
   "outputs": [],
   "source": "## Installation"
  },
  {
   "cell_type": "markdown",
   "metadata": {},
   "outputs": [],
   "source": "Install latest from the GitHub repository:\n\n```sh\npip install git+https://github.com/LotsOfOrg/launch-kit.git\n```\n\nOr install from PyPI (when available):\n\n```sh\npip install launch-kit\n```\n\nFor development:\n\n```sh\n# Clone the repository\ngit clone https://github.com/LotsOfOrg/launch-kit.git\ncd launch-kit\n\n# Install in development mode\npip install -e .\n\n# Install with development dependencies\npip install -e \".[dev]\"\n```"
  },
  {
   "cell_type": "markdown",
   "metadata": {},
   "source": "## Quick Start"
  },
  {
   "cell_type": "markdown",
   "metadata": {},
   "source": "### Basic FastHTML App with Authentication\n\nHere's how to add authentication to your FastHTML app in minutes:"
  },
  {
   "cell_type": "code",
   "metadata": {},
   "outputs": [],
   "source": "#| eval: false\nfrom fasthtml.common import *\nfrom launch_kit.routes.auth import login_route, signup_route, logout_route\n\n# Standard FastHTML app - no wrapping!\napp, rt = fast_app()\n\n# Add authentication routes with one line each\nlogin_route(app)\nsignup_route(app) \nlogout_route(app)\n\n# Your routes - that's it!\n@rt(\"/\")\ndef get(sess):\n    user = sess.get('auth')\n    if user:\n        return Title(\"Home\"), Main(\n            H1(f\"Welcome {user['email']}!\"),\n            A(\"Logout\", href=\"/auth/logout\")\n        )\n    return Title(\"Welcome\"), Main(\n        P(\"Please \", A(\"login\", href=\"/auth/login\"), \" to continue.\")\n    )\n\nserve()"
  },
  {
   "cell_type": "markdown",
   "metadata": {},
   "source": "That's it! You now have:\n- 📝 Beautiful login and signup forms with MonsterUI\n- 🔐 Secure password hashing\n- 🍪 Session-based authentication\n- 🚀 HTMX-enhanced interactions\n- 🎨 Fully customizable components"
  },
  {
   "cell_type": "markdown",
   "metadata": {},
   "source": "## Features"
  },
  {
   "cell_type": "markdown",
   "metadata": {},
   "source": "### 🔐 Authentication Module\n\nCore authentication utilities and pre-built routes:"
  },
  {
   "cell_type": "markdown",
   "metadata": {},
   "outputs": [],
   "source": "from launch_kit.auth import hash_password, verify_password\n\n# Password hashing utilities\npassword = \"secure_password123\"\nhashed = hash_password(password)\nprint(f\"Hashed: {hashed[:20]}...\")\n\n# Verification\nis_valid = verify_password(password, hashed)\nprint(f\"Valid: {is_valid}\")\n\n# Wrong password\nis_valid = verify_password(\"wrong_password\", hashed)\nprint(f\"Invalid: {not is_valid}\")"
  },
  {
   "cell_type": "markdown",
   "metadata": {},
   "source": "### 🛤️ Pre-built Routes\n\nCustomizable authentication routes that follow FastHTML patterns:"
  },
  {
   "cell_type": "code",
   "metadata": {},
   "outputs": [],
   "source": "#| eval: false\n# Customize any aspect of the routes\nfrom monsterui.all import *\n\ndef my_login_form(error=None, **kwargs):\n    return Container(\n        Card(\n            H1(\"Welcome Back!\", cls=\"text-3xl font-bold mb-6\"),\n            Form(\n                LabelInput(\"Email\", name=\"email\", type=\"email\", required=True),\n                LabelInput(\"Password\", name=\"password\", type=\"password\", required=True),\n                Alert(error, variant=\"destructive\") if error else None,\n                Button(\"Sign In\", type=\"submit\", cls=\"w-full\", size=\"lg\"),\n                method=\"post\",\n                cls=\"space-y-4\"\n            ),\n            cls=\"max-w-md mx-auto\"\n        ),\n        cls=\"min-h-screen flex items-center\"\n    )\n\n# Use your custom form\nlogin_route(app, login_form=my_login_form)"
  },
  {
   "cell_type": "markdown",
   "metadata": {},
   "source": "### Coming Soon\n\nLaunch Kit is under active development. Upcoming features include:\n\n- **🛡️ Permissions & RBAC** - Role-based access control decorators\n- **👨‍💼 Admin Panel** - Customizable admin interface utilities  \n- **👥 Team Management** - Multi-tenant team functionality\n- **💳 Billing Integration** - Stripe and payment utilities\n- **🚦 Middleware** - Rate limiting, CSRF protection\n- **📊 API Management** - API key generation and validation\n- **🔍 Search** - Full-text search utilities\n- **📤 Data Export** - CSV/JSON export helpers"
  },
  {
   "cell_type": "markdown",
   "metadata": {},
   "source": "## Philosophy: Utilities, Not Frameworks\n\nLaunch Kit follows Answer.AI's principles:\n\n1. **Simple things should be simple** - `login_route(app)` just works\n2. **Complex things should be possible** - Override any component or behavior\n3. **No magic** - You can read and understand every line of code\n4. **Composable** - Use only what you need, ignore the rest\n5. **FastHTML-native** - Uses standard FastHTML patterns (rt, sess, FT components)"
  },
  {
   "cell_type": "markdown",
   "metadata": {},
   "source": "## Advanced Example: Custom Authentication\n\nHere's how to build a complete authentication system with custom logic:"
  },
  {
   "cell_type": "code",
   "metadata": {},
   "outputs": [],
   "source": "#| eval: false\nfrom fasthtml.common import *\nfrom launch_kit.auth import hash_password, verify_password\nfrom launch_kit.routes.auth import login_route, signup_route, logout_route\nfrom datetime import datetime\n\n# Your database setup (example with dict for simplicity)\nusers_db = {}\n\ndef authenticate_user(email, password):\n    \"\"\"Custom authentication logic\"\"\"\n    user = users_db.get(email)\n    if user and verify_password(password, user['password_hash']):\n        return {'email': email, 'name': user['name']}\n    return None\n\ndef create_user(form_data):\n    \"\"\"Custom user creation logic\"\"\"\n    email = form_data.get('email')\n    \n    # Validation\n    if form_data['password'] != form_data['password_confirm']:\n        return \"Passwords don't match\"\n    \n    if email in users_db:\n        return \"Email already registered\"\n    \n    # Create user\n    users_db[email] = {\n        'name': form_data['name'],\n        'password_hash': hash_password(form_data['password']),\n        'created_at': datetime.now()\n    }\n    \n    return {'email': email, 'name': form_data['name']}\n\n# Create app with session middleware\napp, rt = fast_app(\n    secret_key='your-secret-key',  # Required for sessions\n    pico=True  # Optional: Use Pico CSS for styling\n)\n\n# Add auth routes with custom logic\nlogin_route(app, authenticate=authenticate_user)\nsignup_route(app, create_user=create_user)\nlogout_route(app)\n\n# Protected route example\n@rt(\"/dashboard\")\ndef get(sess):\n    user = sess.get('auth')\n    if not user:\n        return RedirectResponse('/auth/login', status_code=303)\n    \n    return Title(\"Dashboard\"), Main(\n        H1(f\"Welcome to your dashboard, {user['name']}!\"),\n        P(f\"Logged in as: {user['email']}\"),\n        Button(\"Logout\", hx_get=\"/auth/logout\", hx_push_url=\"true\")\n    )\n\n# Public route\n@rt(\"/\")\ndef get():\n    return Title(\"Launch Kit Demo\"), Main(\n        H1(\"Welcome to Launch Kit\"),\n        P(\"A FastHTML toolkit for building SaaS applications\"),\n        Div(\n            A(\"Login\", href=\"/auth/login\", cls=\"button\"),\n            \" \",\n            A(\"Sign Up\", href=\"/auth/signup\", cls=\"button outline\"),\n            cls=\"grid\"\n        )\n    )\n\nserve()"
  },
  {
   "cell_type": "markdown",
   "metadata": {},
   "source": "## Developer Guide\n\nLaunch Kit uses [nbdev](https://nbdev.fast.ai/) for development. Here's how to contribute:"
  },
  {
   "cell_type": "markdown",
   "metadata": {},
   "source": "### Development Setup\n\n```sh\n# Clone the repository\ngit clone https://github.com/LotsOfOrg/launch-kit.git\ncd launch-kit\n\n# Install in development mode\npip install -e .\n\n# Make changes in the notebooks under nbs/\n# The source code in launch_kit/ is auto-generated\n\n# After making changes, prepare for commit\nnbdev_prepare\n```\n\n### Project Structure\n\n```\nlaunch-kit/\n├── nbs/                    # Development notebooks (source of truth)\n│   ├── 00_auth.ipynb      # Core authentication utilities\n│   ├── 01_routes_auth.ipynb # Authentication routes\n│   └── index.ipynb        # This file (package docs)\n├── launch_kit/            # Auto-generated Python modules\n│   ├── auth.py\n│   └── routes/\n│       └── auth.py\n└── settings.ini          # nbdev configuration\n```\n\n**Important**: Never edit files in `launch_kit/` directly - they're auto-generated from notebooks!"
  },
  {
   "cell_type": "markdown",
   "metadata": {},
   "source": "## Documentation\n\n- **GitHub**: https://github.com/LotsOfOrg/launch-kit\n- **Documentation**: https://LotsOfOrg.github.io/launch-kit/\n- **Issues**: https://github.com/LotsOfOrg/launch-kit/issues\n\n## License\n\nLicensed under the Apache License, Version 2.0. See [LICENSE](https://github.com/LotsOfOrg/launch-kit/blob/main/LICENSE) for details."
  },
  {
   "cell_type": "markdown",
   "metadata": {},
   "source": [
    "## How to use"
   ]
  },
  {
   "cell_type": "markdown",
   "metadata": {},
   "outputs": [],
   "source": "Launch Kit provides simple, transparent utilities for building production-ready FastHTML applications. Here's a quick example of using the authentication utilities:"
  },
  {
   "cell_type": "code",
   "metadata": {},
   "outputs": [],
   "source": "from launch_kit.auth import hash_password, verify_password\n\n# Hash a password when user signs up\npassword = \"secure_password123\"\nhashed = hash_password(password)\nprint(f\"Hashed: {hashed[:20]}...\")\n\n# Verify password when user logs in\nis_valid = verify_password(password, hashed)\nprint(f\"Valid: {is_valid}\")"
  }
 ],
 "metadata": {
  "kernelspec": {
   "display_name": "python3",
   "language": "python",
   "name": "python3"
  }
 },
 "nbformat": 4,
 "nbformat_minor": 4
}
