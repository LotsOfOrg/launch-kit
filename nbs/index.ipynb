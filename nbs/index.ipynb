{
 "cells": [
  {
   "cell_type": "code",
   "metadata": {},
   "outputs": [],
   "source": "#| hide\nfrom launch_kit.auth import *"
  },
  {
   "cell_type": "markdown",
   "metadata": {},
   "source": [
    "# launch-kit\n",
    "\n",
    "> A FastHTML toolkit for building production-ready SaaS applications with authentication, admin panels, billing, and team management"
   ]
  },
  {
   "cell_type": "markdown",
   "metadata": {},
   "source": [
    "This file will become your README and also the index of your documentation."
   ]
  },
  {
   "cell_type": "markdown",
   "metadata": {},
   "source": [
    "## Developer Guide"
   ]
  },
  {
   "cell_type": "markdown",
   "metadata": {},
   "source": [
    "If you are new to using `nbdev` here are some useful pointers to get you started."
   ]
  },
  {
   "cell_type": "markdown",
   "metadata": {},
   "source": [
    "### Install launch_kit in Development mode"
   ]
  },
  {
   "cell_type": "markdown",
   "metadata": {},
   "source": [
    "```sh\n",
    "# make sure launch_kit package is installed in development mode\n",
    "$ pip install -e .\n",
    "\n",
    "# make changes under nbs/ directory\n",
    "# ...\n",
    "\n",
    "# compile to have changes apply to launch_kit\n",
    "$ nbdev_prepare\n",
    "```"
   ]
  },
  {
   "cell_type": "markdown",
   "metadata": {},
   "source": [
    "## Usage"
   ]
  },
  {
   "cell_type": "markdown",
   "metadata": {},
   "source": [
    "### Installation"
   ]
  },
  {
   "cell_type": "markdown",
   "metadata": {},
   "source": [
    "Install latest from the GitHub [repository][repo]:\n",
    "\n",
    "```sh\n",
    "$ pip install git+https://github.com/LotsOfOrg/launch-kit.git\n",
    "```\n",
    "\n",
    "or from [conda][conda]\n",
    "\n",
    "```sh\n",
    "$ conda install -c LotsOfOrg launch_kit\n",
    "```\n",
    "\n",
    "or from [pypi][pypi]\n",
    "\n",
    "\n",
    "```sh\n",
    "$ pip install launch_kit\n",
    "```\n",
    "\n",
    "\n",
    "[repo]: https://github.com/LotsOfOrg/launch-kit\n",
    "[docs]: https://LotsOfOrg.github.io/launch-kit/\n",
    "[pypi]: https://pypi.org/project/launch-kit/\n",
    "[conda]: https://anaconda.org/LotsOfOrg/launch-kit"
   ]
  },
  {
   "cell_type": "markdown",
   "metadata": {},
   "source": [
    "### Documentation"
   ]
  },
  {
   "cell_type": "markdown",
   "metadata": {},
   "source": [
    "Documentation can be found hosted on this GitHub [repository][repo]'s [pages][docs]. Additionally you can find package manager specific guidelines on [conda][conda] and [pypi][pypi] respectively.\n",
    "\n",
    "[repo]: https://github.com/LotsOfOrg/launch-kit\n",
    "[docs]: https://LotsOfOrg.github.io/launch-kit/\n",
    "[pypi]: https://pypi.org/project/launch-kit/\n",
    "[conda]: https://anaconda.org/LotsOfOrg/launch-kit"
   ]
  },
  {
   "cell_type": "markdown",
   "metadata": {},
   "source": [
    "## How to use"
   ]
  },
  {
   "cell_type": "markdown",
   "metadata": {},
   "outputs": [],
   "source": "Launch Kit provides simple, transparent utilities for building production-ready FastHTML applications. Here's a quick example of using the authentication utilities:"
  },
  {
   "cell_type": "code",
   "metadata": {},
   "outputs": [],
   "source": "from launch_kit.auth import hash_password, verify_password\n\n# Hash a password when user signs up\npassword = \"secure_password123\"\nhashed = hash_password(password)\nprint(f\"Hashed: {hashed[:20]}...\")\n\n# Verify password when user logs in\nis_valid = verify_password(password, hashed)\nprint(f\"Valid: {is_valid}\")"
  }
 ],
 "metadata": {
  "kernelspec": {
   "display_name": "python3",
   "language": "python",
   "name": "python3"
  }
 },
 "nbformat": 4,
 "nbformat_minor": 4
}
