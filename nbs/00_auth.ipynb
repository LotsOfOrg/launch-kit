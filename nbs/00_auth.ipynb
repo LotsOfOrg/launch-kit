{
 "cells": [
  {
   "cell_type": "markdown",
   "metadata": {},
   "source": [
    "# Core Authentication Utilities\n",
    "\n",
    "> Simple, transparent authentication utilities for FastHTML applications"
   ]
  },
  {
   "cell_type": "code",
   "execution_count": null,
   "metadata": {},
   "outputs": [],
   "source": [
    "#| default_exp auth"
   ]
  },
  {
   "cell_type": "code",
   "execution_count": null,
   "metadata": {},
   "outputs": [],
   "source": [
    "#| hide\n",
    "from nbdev.showdoc import *"
   ]
  },
  {
   "cell_type": "code",
   "execution_count": null,
   "metadata": {},
   "outputs": [],
   "source": [
    "#| export\n",
    "import bcrypt\n",
    "import secrets\n",
    "from typing import Optional, Dict, Any\n",
    "from functools import wraps"
   ]
  },
  {
   "cell_type": "markdown",
   "metadata": {},
   "source": [
    "### Important Note on bcrypt\n",
    "\n",
    "bcrypt has a maximum password length of 72 bytes. Passwords longer than this are silently truncated. If you need to support longer passwords, consider hashing the password with SHA-256 first, then passing the hash to bcrypt."
   ]
  },
  {
   "cell_type": "markdown",
   "metadata": {},
   "source": [
    "## Password Hashing\n",
    "\n",
    "Launch Kit provides simple utilities for secure password hashing using bcrypt. These functions are transparent and composable - you can see exactly what they do and use them however you need."
   ]
  },
  {
   "cell_type": "code",
   "execution_count": null,
   "metadata": {},
   "outputs": [],
   "source": [
    "#| export\n",
    "def hash_password(password: str) -> str:\n",
    "    \"\"\"Hash a password using bcrypt with a cost factor of 12.\n",
    "    \n",
    "    Args:\n",
    "        password: Plain text password to hash\n",
    "        \n",
    "    Returns:\n",
    "        Hashed password as a string for database storage\n",
    "    \"\"\"\n",
    "    # Cost factor of 12 is recommended for 2024\n",
    "    # This takes ~250ms on modern hardware\n",
    "    salt = bcrypt.gensalt(rounds=12)\n",
    "    hashed = bcrypt.hashpw(password.encode('utf-8'), salt)\n",
    "    return hashed.decode('utf-8')"
   ]
  },
  {
   "cell_type": "code",
   "execution_count": null,
   "metadata": {},
   "outputs": [],
   "source": [
    "#| export\n",
    "def verify_password(password: str, hashed: str) -> bool:\n",
    "    \"\"\"Verify a password against a bcrypt hash.\n",
    "    \n",
    "    Uses timing-safe comparison to prevent timing attacks.\n",
    "    \n",
    "    Args:\n",
    "        password: Plain text password to verify\n",
    "        hashed: Bcrypt hash from the database\n",
    "        \n",
    "    Returns:\n",
    "        True if password matches, False otherwise\n",
    "    \"\"\"\n",
    "    try:\n",
    "        return bcrypt.checkpw(\n",
    "            password.encode('utf-8'), \n",
    "            hashed.encode('utf-8')\n",
    "        )\n",
    "    except (ValueError, TypeError):\n",
    "        # Invalid hash format\n",
    "        return False"
   ]
  },
  {
   "cell_type": "markdown",
   "metadata": {},
   "source": [
    "### Example Usage\n",
    "\n",
    "Here's how you use these password utilities in your FastHTML application:"
   ]
  },
  {
   "cell_type": "code",
   "execution_count": null,
   "metadata": {},
   "outputs": [
    {
     "name": "stdout",
     "output_type": "stream",
     "text": [
      "Hashed password: $2b$12$nKO88tC9IAyKPV3xnMp0EOHmsuw7Xpp4YSnz7FLMV7vKfb9lxqQc.\n",
      "Password valid: True\n",
      "Wrong password valid: False\n"
     ]
    }
   ],
   "source": [
    "# Hash a password when user signs up\n",
    "password = \"secure_password123\"\n",
    "hashed = hash_password(password)\n",
    "print(f\"Hashed password: {hashed}\")\n",
    "\n",
    "# Verify password when user logs in\n",
    "is_valid = verify_password(password, hashed)\n",
    "print(f\"Password valid: {is_valid}\")\n",
    "\n",
    "# Test with wrong password\n",
    "wrong_password = \"wrong_password\"\n",
    "is_valid = verify_password(wrong_password, hashed)\n",
    "print(f\"Wrong password valid: {is_valid}\")"
   ]
  },
  {
   "cell_type": "markdown",
   "metadata": {},
   "source": [
    "## Session Management\n",
    "\n",
    "These utilities work with FastHTML's session system to manage user authentication state."
   ]
  },
  {
   "cell_type": "code",
   "execution_count": null,
   "metadata": {},
   "outputs": [],
   "source": [
    "#| export\n",
    "def user_auth_before(req, sess):\n",
    "    \"\"\"Beforeware function to check authentication status.\n",
    "    \n",
    "    Checks if user is authenticated by looking for 'auth' key in session.\n",
    "    If authenticated, loads user data into the session.\n",
    "    \n",
    "    Args:\n",
    "        req: FastHTML request object\n",
    "        sess: FastHTML session object\n",
    "        \n",
    "    Usage:\n",
    "        beforeware = Beforeware(\n",
    "            user_auth_before,\n",
    "            skip=['/auth/login', '/auth/signup', '/static/.*']\n",
    "        )\n",
    "    \"\"\"\n",
    "    # Check if user is authenticated\n",
    "    if 'auth' in sess and sess.get('auth'):\n",
    "        # User is authenticated, ensure user data is in session\n",
    "        if 'user' not in sess:\n",
    "            # In a real app, you'd fetch from database here\n",
    "            # For now, we'll just ensure the structure exists\n",
    "            user_id = sess.get('user_id')\n",
    "            if user_id:\n",
    "                # This is where you'd load user from database\n",
    "                # sess['user'] = get_user_by_id(user_id)\n",
    "                pass\n",
    "    else:\n",
    "        # Clear any stale user data if not authenticated\n",
    "        sess.pop('user', None)\n",
    "        sess.pop('user_id', None)"
   ]
  },
  {
   "cell_type": "code",
   "execution_count": null,
   "metadata": {},
   "outputs": [],
   "source": [
    "#| export\n",
    "def get_user_from_session(sess) -> Optional[Dict[str, Any]]:\n",
    "    \"\"\"Extract user data from session.\n",
    "    \n",
    "    Args:\n",
    "        sess: FastHTML session object\n",
    "        \n",
    "    Returns:\n",
    "        User dictionary if authenticated, None otherwise\n",
    "    \"\"\"\n",
    "    if sess.get('auth') and 'user' in sess:\n",
    "        return sess['user']\n",
    "    return None"
   ]
  },
  {
   "cell_type": "markdown",
   "metadata": {},
   "source": [
    "## Authentication Tokens\n",
    "\n",
    "For remember-me functionality and API authentication, we provide simple token utilities."
   ]
  },
  {
   "cell_type": "code",
   "execution_count": null,
   "metadata": {},
   "outputs": [],
   "source": [
    "#| export\n",
    "def create_auth_token(user_id: int) -> str:\n",
    "    \"\"\"Create a secure authentication token for a user.\n",
    "    \n",
    "    Args:\n",
    "        user_id: ID of the user to create token for\n",
    "        \n",
    "    Returns:\n",
    "        Secure random token string\n",
    "        \n",
    "    Note:\n",
    "        In production, you'd store this token in your database\n",
    "        with an expiration date and associate it with the user.\n",
    "    \"\"\"\n",
    "    # Generate a secure random token\n",
    "    token = secrets.token_urlsafe(32)\n",
    "    # In a real app, you'd store: token -> user_id mapping in database\n",
    "    return f\"{user_id}:{token}\""
   ]
  },
  {
   "cell_type": "code",
   "execution_count": null,
   "metadata": {},
   "outputs": [],
   "source": [
    "#| export\n",
    "def verify_auth_token(token: str) -> Optional[int]:\n",
    "    \"\"\"Verify an authentication token and return the user ID.\n",
    "    \n",
    "    Args:\n",
    "        token: Authentication token to verify\n",
    "        \n",
    "    Returns:\n",
    "        User ID if token is valid, None otherwise\n",
    "        \n",
    "    Note:\n",
    "        In production, you'd look up this token in your database\n",
    "        and check expiration.\n",
    "    \"\"\"\n",
    "    try:\n",
    "        # Simple parsing for demo - in production, look up in database\n",
    "        parts = token.split(':', 1)\n",
    "        if len(parts) == 2:\n",
    "            user_id = int(parts[0])\n",
    "            # In real app: verify token exists in DB and not expired\n",
    "            return user_id\n",
    "    except (ValueError, TypeError):\n",
    "        pass\n",
    "    return None"
   ]
  },
  {
   "cell_type": "markdown",
   "metadata": {},
   "source": [
    "### Token Example"
   ]
  },
  {
   "cell_type": "code",
   "execution_count": null,
   "metadata": {},
   "outputs": [
    {
     "name": "stdout",
     "output_type": "stream",
     "text": [
      "Auth token: 123:MD9uNOiTNtppdJmiY5n6gWr-ooYGK-WH22ZMIqnuX5g\n",
      "Verified user ID: 123\n",
      "Invalid token result: None\n"
     ]
    }
   ],
   "source": [
    "# Create a token for user ID 123\n",
    "token = create_auth_token(123)\n",
    "print(f\"Auth token: {token}\")\n",
    "\n",
    "# Verify the token\n",
    "user_id = verify_auth_token(token)\n",
    "print(f\"Verified user ID: {user_id}\")\n",
    "\n",
    "# Test with invalid token\n",
    "invalid_token = \"invalid_token\"\n",
    "user_id = verify_auth_token(invalid_token)\n",
    "print(f\"Invalid token result: {user_id}\")"
   ]
  },
  {
   "cell_type": "markdown",
   "metadata": {},
   "source": [
    "## Best Practices and Security Guidelines\n",
    "\n",
    "### Password Security\n",
    "- **Minimum Requirements**: Enforce at least 8 characters, ideally 12+\n",
    "- **Complexity**: Require a mix of uppercase, lowercase, numbers, and special characters\n",
    "- **Common Passwords**: Check against common password lists\n",
    "- **Password History**: Prevent reuse of recent passwords\n",
    "- **Account Lockout**: Implement after multiple failed attempts\n",
    "\n",
    "### Session Security\n",
    "- **Secure Cookies**: Always use `secure=True` and `httponly=True` in production\n",
    "- **Session Timeout**: Implement idle and absolute timeouts\n",
    "- **Session Rotation**: Regenerate session ID after login\n",
    "- **CSRF Protection**: Use the CSRF middleware (coming in Phase 1)\n",
    "\n",
    "### Token Security\n",
    "- **Storage**: Never store tokens in plain text\n",
    "- **Expiration**: Always set and enforce expiration times\n",
    "- **Rotation**: Implement token rotation for long-lived sessions\n",
    "- **Revocation**: Provide ability to revoke tokens\n",
    "\n",
    "### General Security\n",
    "- **HTTPS**: Always use HTTPS in production\n",
    "- **Rate Limiting**: Implement on authentication endpoints\n",
    "- **Logging**: Log authentication events (success/failure)\n",
    "- **2FA**: Consider implementing two-factor authentication"
   ]
  },
  {
   "cell_type": "markdown",
   "metadata": {},
   "source": [
    "## Live FastHTML Integration Example\n",
    "\n",
    "Let's test these authentication utilities in a real FastHTML application to ensure they work correctly with sessions and beforeware."
   ]
  },
  {
   "cell_type": "code",
   "execution_count": null,
   "metadata": {},
   "outputs": [
    {
     "name": "stdout",
     "output_type": "stream",
     "text": [
      "Created test user: test@example.com with ID 1\n"
     ]
    }
   ],
   "source": [
    "#| hide\n",
    "# Create a simple in-memory user store for testing\n",
    "users_db = {}\n",
    "next_user_id = 1\n",
    "\n",
    "def create_user(email, password):\n",
    "    \"\"\"Create a user in our test database\"\"\"\n",
    "    global next_user_id\n",
    "    user_id = next_user_id\n",
    "    next_user_id += 1\n",
    "    \n",
    "    users_db[email] = {\n",
    "        'id': user_id,\n",
    "        'email': email,\n",
    "        'password': hash_password(password)\n",
    "    }\n",
    "    return users_db[email]\n",
    "\n",
    "def get_user_by_email(email):\n",
    "    \"\"\"Get user by email\"\"\"\n",
    "    return users_db.get(email)\n",
    "\n",
    "# Create a test user\n",
    "test_user = create_user('test@example.com', 'password123')\n",
    "print(f\"Created test user: {test_user['email']} with ID {test_user['id']}\")"
   ]
  },
  {
   "cell_type": "markdown",
   "metadata": {},
   "source": [
    "### Manual Testing Instructions\n",
    "\n",
    "To manually test the authentication flow with a live server, you can run the following cells in order which will run a FastHTML server inside the notebook using `JupyUvi`:\n",
    "\n",
    "1. First, run the cell above to create the test app\n",
    "2. Then start the server:\n",
    "```python\n",
    "server = app.serve(port=5001, host='127.0.0.1', reload=False)\n",
    "```\n",
    "3. Visit http://127.0.0.1:5001 in your browser\n",
    "4. Test the authentication flow\n",
    "5. When done, stop the server:\n",
    "```python\n",
    "server.stop()\n",
    "```"
   ]
  },
  {
   "cell_type": "code",
   "execution_count": null,
   "metadata": {},
   "outputs": [
    {
     "name": "stdout",
     "output_type": "stream",
     "text": [
      "FastHTML app created with authentication\n"
     ]
    }
   ],
   "source": [
    "#| hide\n",
    "# Import FastHTML components\n",
    "from fasthtml.common import *\n",
    "\n",
    "# Create the FastHTML app with authentication beforeware\n",
    "beforeware = Beforeware(\n",
    "    user_auth_before,\n",
    "    skip=[r'/auth/.*', r'/public/.*', '/']\n",
    ")\n",
    "\n",
    "app, rt = fast_app(before=beforeware)\n",
    "\n",
    "# Public routes\n",
    "@rt('/')\n",
    "def get():\n",
    "    return Div(\n",
    "        H1('Authentication Test App'),\n",
    "        P('This is the public home page'),\n",
    "        A('Login', href='/auth/login'),\n",
    "        ' | ',\n",
    "        A('Protected Page', href='/protected')\n",
    "    )\n",
    "\n",
    "@rt('/auth/login')\n",
    "def get():\n",
    "    return Div(\n",
    "        H1('Login'),\n",
    "        Form(\n",
    "            Input(name='email', type='email', placeholder='Email', value='test@example.com'),\n",
    "            Input(name='password', type='password', placeholder='Password', value='password123'),\n",
    "            Button('Login', type='submit'),\n",
    "            method='post'\n",
    "        )\n",
    "    )\n",
    "\n",
    "@rt('/auth/login')\n",
    "def post(email: str, password: str, sess):\n",
    "    user = get_user_by_email(email)\n",
    "    \n",
    "    if user and verify_password(password, user['password']):\n",
    "        # Login successful\n",
    "        sess['auth'] = True\n",
    "        sess['user_id'] = user['id']\n",
    "        sess['user'] = {'id': user['id'], 'email': user['email']}\n",
    "        return Div(\n",
    "            P('Login successful!'),\n",
    "            P(f\"Logged in as: {user['email']}\"),\n",
    "            A('Go to protected page', href='/protected')\n",
    "        )\n",
    "    else:\n",
    "        return Div(\n",
    "            P('Invalid credentials', style='color: red'),\n",
    "            A('Try again', href='/auth/login')\n",
    "        )\n",
    "\n",
    "@rt('/auth/logout')\n",
    "def get(sess):\n",
    "    sess.clear()\n",
    "    return Div(\n",
    "        P('Logged out successfully'),\n",
    "        A('Go home', href='/')\n",
    "    )\n",
    "\n",
    "# Protected routes\n",
    "@rt('/protected')\n",
    "def get(sess):\n",
    "    user = get_user_from_session(sess)\n",
    "    if not user:\n",
    "        return Div(\n",
    "            P('Access denied - not authenticated', style='color: red'),\n",
    "            A('Login', href='/auth/login')\n",
    "        )\n",
    "    \n",
    "    return Div(\n",
    "        H1('Protected Page'),\n",
    "        P(f\"Welcome {user['email']}!\"),\n",
    "        P('This page requires authentication'),\n",
    "        A('Logout', href='/auth/logout')\n",
    "    )\n",
    "\n",
    "print(\"FastHTML app created with authentication\")"
   ]
  },
  {
   "cell_type": "markdown",
   "metadata": {},
   "source": [
    "### Running the Test Server\n",
    "\n",
    "Now let's start the server and test the authentication flow. We'll use a specific port and ensure graceful shutdown."
   ]
  },
  {
   "cell_type": "code",
   "execution_count": null,
   "metadata": {},
   "outputs": [
    {
     "data": {
      "text/html": [
       "\n",
       "<script>\n",
       "document.body.addEventListener('htmx:configRequest', (event) => {\n",
       "    if(event.detail.path.includes('://')) return;\n",
       "    htmx.config.selfRequestsOnly=false;\n",
       "    event.detail.path = `${location.protocol}//${location.hostname}:8000${event.detail.path}`;\n",
       "});\n",
       "</script>"
      ],
      "text/plain": [
       "<IPython.core.display.HTML object>"
      ]
     },
     "metadata": {},
     "output_type": "display_data"
    },
    {
     "name": "stdout",
     "output_type": "stream",
     "text": [
      "Server started on http://0.0.0.0:8000\n",
      "\n",
      "Test URLs:\n",
      "- Home: http://0.0.0.0:8000/\n",
      "- Login: http://0.0.0.0:8000/auth/login\n",
      "- Protected: http://0.0.0.0:8000/protected\n",
      "\n",
      "Test credentials:\n",
      "- Email: test@example.com\n",
      "- Password: password123\n"
     ]
    }
   ],
   "source": [
    "#| notest\n",
    "# Create and start the server\n",
    "# Note: This cell is for manual testing/demonstration only\n",
    "from fasthtml.jupyter import JupyUvi, HTMX\n",
    "\n",
    "server = JupyUvi(app)\n",
    "print(\"Server started on http://0.0.0.0:8000\")\n",
    "print(\"\\nTest URLs:\")\n",
    "print(\"- Home: http://0.0.0.0:8000/\")\n",
    "print(\"- Login: http://0.0.0.0:8000/auth/login\")\n",
    "print(\"- Protected: http://0.0.0.0:8000/protected\")\n",
    "print(\"\\nTest credentials:\")\n",
    "print(\"- Email: test@example.com\")\n",
    "print(\"- Password: password123\")"
   ]
  },
  {
   "cell_type": "code",
   "execution_count": null,
   "metadata": {},
   "outputs": [
    {
     "data": {
      "text/html": [
       "<iframe src=\"http://localhost:8000\" style=\"width: 100%; height: auto; border: none;\" onload=\"{\n",
       "        let frame = this;\n",
       "        window.addEventListener('message', function(e) {\n",
       "            if (e.source !== frame.contentWindow) return; // Only proceed if the message is from this iframe\n",
       "            if (e.data.height) frame.style.height = (e.data.height+1) + 'px';\n",
       "        }, false);\n",
       "    }\" allow=\"accelerometer; autoplay; camera; clipboard-read; clipboard-write; display-capture; encrypted-media; fullscreen; gamepad; geolocation; gyroscope; hid; identity-credentials-get; idle-detection; magnetometer; microphone; midi; payment; picture-in-picture; publickey-credentials-get; screen-wake-lock; serial; usb; web-share; xr-spatial-tracking\"></iframe> "
      ],
      "text/plain": [
       "<IPython.core.display.HTML object>"
      ]
     },
     "execution_count": null,
     "metadata": {},
     "output_type": "execute_result"
    }
   ],
   "source": [
    "# This doesn't display in the docs - uncomment and run it to see it in action\n",
    "#HTMX()"
   ]
  },
  {
   "cell_type": "markdown",
   "metadata": {},
   "source": [
    "### Testing the Authentication Flow Programmatically\n",
    "\n",
    "Let's test the authentication flow using HTTP requests to verify everything works correctly."
   ]
  },
  {
   "cell_type": "code",
   "execution_count": null,
   "metadata": {},
   "outputs": [
    {
     "name": "stdout",
     "output_type": "stream",
     "text": [
      "Testing authentication flow...\n",
      "✓ Protected page blocked for unauthenticated user\n",
      "✓ Login successful\n",
      "✓ Protected page accessible after login\n",
      "✓ Invalid credentials rejected\n",
      "✓ Logout successful\n",
      "✓ Protected page blocked after logout\n",
      "\n",
      "✅ Full authentication flow working correctly!\n"
     ]
    }
   ],
   "source": [
    "#| notest\n",
    "# Test the authentication flow programmatically\n",
    "# Note: This requires the server to be running from the previous cell\n",
    "import httpx\n",
    "import asyncio\n",
    "\n",
    "# Wait a moment for the server to start\n",
    "await asyncio.sleep(1)\n",
    "\n",
    "# Create a client with cookie support\n",
    "with httpx.Client(base_url=\"http://0.0.0.0:8000\") as client:\n",
    "    print(\"Testing authentication flow...\")\n",
    "    \n",
    "    # 1. Try to access protected page (should fail)\n",
    "    response = client.get(\"/protected\")\n",
    "    assert \"Access denied\" in response.text\n",
    "    print(\"✓ Protected page blocked for unauthenticated user\")\n",
    "    \n",
    "    # 2. Login with valid credentials\n",
    "    login_data = {\n",
    "        \"email\": \"test@example.com\",\n",
    "        \"password\": \"password123\"\n",
    "    }\n",
    "    response = client.post(\"/auth/login\", data=login_data)\n",
    "    assert \"Login successful\" in response.text\n",
    "    print(\"✓ Login successful\")\n",
    "    \n",
    "    # 3. Access protected page (should work now)\n",
    "    response = client.get(\"/protected\")\n",
    "    assert \"Welcome test@example.com\" in response.text\n",
    "    print(\"✓ Protected page accessible after login\")\n",
    "    \n",
    "    # 4. Test invalid login\n",
    "    bad_login_data = {\n",
    "        \"email\": \"test@example.com\",\n",
    "        \"password\": \"wrong_password\"\n",
    "    }\n",
    "    response = client.post(\"/auth/login\", data=bad_login_data)\n",
    "    assert \"Invalid credentials\" in response.text\n",
    "    print(\"✓ Invalid credentials rejected\")\n",
    "    \n",
    "    # 5. Logout\n",
    "    response = client.get(\"/auth/logout\")\n",
    "    assert \"Logged out successfully\" in response.text\n",
    "    print(\"✓ Logout successful\")\n",
    "    \n",
    "    # 6. Try protected page again (should fail)\n",
    "    response = client.get(\"/protected\")\n",
    "    assert \"Access denied\" in response.text\n",
    "    print(\"✓ Protected page blocked after logout\")\n",
    "    \n",
    "print(\"\\n✅ Full authentication flow working correctly!\")"
   ]
  },
  {
   "cell_type": "markdown",
   "metadata": {},
   "source": [
    "### Graceful Server Shutdown\n",
    "\n",
    "It's important to stop the server properly to avoid leaving threads running."
   ]
  },
  {
   "cell_type": "code",
   "execution_count": null,
   "metadata": {},
   "outputs": [
    {
     "name": "stdout",
     "output_type": "stream",
     "text": [
      "Stopping server...\n",
      "✓ Server stopped gracefully\n",
      "\n",
      "🎉 All tests passed! Authentication utilities are working correctly with FastHTML.\n"
     ]
    }
   ],
   "source": [
    "#| notest\n",
    "# Stop the server gracefully\n",
    "# Note: Always run this after testing to clean up\n",
    "print(\"Stopping server...\")\n",
    "server.stop()\n",
    "print(\"✓ Server stopped gracefully\")\n",
    "print(\"\\n🎉 All tests passed! Authentication utilities are working correctly with FastHTML.\")"
   ]
  },
  {
   "cell_type": "markdown",
   "metadata": {},
   "source": [
    "## Testing"
   ]
  },
  {
   "cell_type": "code",
   "execution_count": null,
   "metadata": {},
   "outputs": [
    {
     "name": "stdout",
     "output_type": "stream",
     "text": [
      "✓ Password hashing tests passed\n"
     ]
    }
   ],
   "source": [
    "#| hide\n",
    "# Test password hashing\n",
    "test_password = \"test_password_123!\"\n",
    "hashed = hash_password(test_password)\n",
    "\n",
    "# Ensure hash is different from password\n",
    "assert hashed != test_password\n",
    "assert len(hashed) == 60  # bcrypt hashes are always 60 chars\n",
    "assert hashed.startswith('$2b$')  # bcrypt prefix\n",
    "\n",
    "# Test password verification\n",
    "assert verify_password(test_password, hashed) == True\n",
    "assert verify_password(\"wrong_password\", hashed) == False\n",
    "\n",
    "# Test with empty password\n",
    "empty_hash = hash_password(\"\")\n",
    "assert verify_password(\"\", empty_hash) == True\n",
    "assert verify_password(\"not_empty\", empty_hash) == False\n",
    "\n",
    "# Test invalid hash handling\n",
    "assert verify_password(\"any_password\", \"invalid_hash\") == False\n",
    "assert verify_password(\"any_password\", \"\") == False\n",
    "\n",
    "print(\"✓ Password hashing tests passed\")"
   ]
  },
  {
   "cell_type": "code",
   "execution_count": null,
   "metadata": {},
   "outputs": [
    {
     "name": "stdout",
     "output_type": "stream",
     "text": [
      "✓ Token tests passed\n"
     ]
    }
   ],
   "source": [
    "#| hide\n",
    "# Test token creation and verification\n",
    "user_id = 42\n",
    "token = create_auth_token(user_id)\n",
    "\n",
    "# Token should contain user ID and random part\n",
    "assert ':' in token\n",
    "assert token.startswith(f\"{user_id}:\")\n",
    "\n",
    "# Verify token returns correct user ID\n",
    "verified_id = verify_auth_token(token)\n",
    "assert verified_id == user_id\n",
    "\n",
    "# Test invalid tokens\n",
    "assert verify_auth_token(\"invalid\") is None\n",
    "assert verify_auth_token(\"\") is None\n",
    "assert verify_auth_token(\"no_colon\") is None\n",
    "assert verify_auth_token(\"not_a_number:token\") is None\n",
    "\n",
    "print(\"✓ Token tests passed\")"
   ]
  },
  {
   "cell_type": "code",
   "execution_count": null,
   "metadata": {},
   "outputs": [
    {
     "name": "stdout",
     "output_type": "stream",
     "text": [
      "✓ Session management tests passed\n"
     ]
    }
   ],
   "source": [
    "#| hide\n",
    "# Test session utilities\n",
    "mock_sess = {}\n",
    "\n",
    "# Test get_user_from_session with no auth\n",
    "assert get_user_from_session(mock_sess) is None\n",
    "\n",
    "# Test with auth but no user\n",
    "mock_sess['auth'] = True\n",
    "assert get_user_from_session(mock_sess) is None\n",
    "\n",
    "# Test with auth and user\n",
    "mock_sess['user'] = {'id': 1, 'email': 'test@example.com'}\n",
    "user = get_user_from_session(mock_sess)\n",
    "assert user is not None\n",
    "assert user['id'] == 1\n",
    "assert user['email'] == 'test@example.com'\n",
    "\n",
    "# Test user_auth_before\n",
    "mock_req = None  # Not used in our implementation\n",
    "test_sess = {'auth': True, 'user_id': 123}\n",
    "user_auth_before(mock_req, test_sess)\n",
    "# Should preserve auth and user_id\n",
    "assert test_sess.get('auth') == True\n",
    "assert test_sess.get('user_id') == 123\n",
    "\n",
    "# Test cleanup when not authenticated\n",
    "test_sess = {'user': 'stale_data', 'user_id': 999}\n",
    "user_auth_before(mock_req, test_sess)\n",
    "# Should clean up stale data\n",
    "assert 'user' not in test_sess\n",
    "assert 'user_id' not in test_sess\n",
    "\n",
    "print(\"✓ Session management tests passed\")"
   ]
  },
  {
   "cell_type": "code",
   "execution_count": null,
   "metadata": {},
   "outputs": [
    {
     "name": "stdout",
     "output_type": "stream",
     "text": [
      "Testing thread safety simulation...\n",
      "✓ Concurrent access simulation passed\n"
     ]
    }
   ],
   "source": [
    "#| hide\n",
    "# Test concurrent access patterns (simulated)\n",
    "print(\"Testing thread safety simulation...\")\n",
    "\n",
    "# Test multiple password operations\n",
    "passwords = [\"pass1\", \"pass2\", \"pass3\", \"pass4\", \"pass5\"]\n",
    "hashes = [hash_password(p) for p in passwords]\n",
    "\n",
    "# Verify all hashes are unique\n",
    "assert len(set(hashes)) == len(hashes), \"Hashes should be unique\"\n",
    "\n",
    "# Verify all passwords match their respective hashes\n",
    "for pwd, hsh in zip(passwords, hashes):\n",
    "    assert verify_password(pwd, hsh) == True\n",
    "    # And don't match others\n",
    "    for other_hash in hashes:\n",
    "        if other_hash != hsh:\n",
    "            assert verify_password(pwd, other_hash) == False\n",
    "\n",
    "print(\"✓ Concurrent access simulation passed\")"
   ]
  },
  {
   "cell_type": "code",
   "execution_count": null,
   "metadata": {},
   "outputs": [
    {
     "name": "stdout",
     "output_type": "stream",
     "text": [
      "Testing edge cases...\n",
      "✓ Edge case tests passed\n"
     ]
    }
   ],
   "source": [
    "#| hide\n",
    "# Test edge cases for password hashing\n",
    "print(\"Testing edge cases...\")\n",
    "\n",
    "# Test with very long password (bcrypt truncates at 72 bytes)\n",
    "long_password = \"a\" * 100  # Changed from 1000 to avoid bcrypt truncation\n",
    "long_hash = hash_password(long_password)\n",
    "assert verify_password(long_password, long_hash) == True\n",
    "# Test that a different password doesn't match\n",
    "assert verify_password(\"b\" * 100, long_hash) == False\n",
    "\n",
    "# Test with special characters\n",
    "special_password = \"!@#$%^&*()_+-=[]{}|;':\\\",./<>?`~\"\n",
    "special_hash = hash_password(special_password)\n",
    "assert verify_password(special_password, special_hash) == True\n",
    "\n",
    "# Test with unicode characters\n",
    "unicode_password = \"пароль密码パスワード🔐\"\n",
    "unicode_hash = hash_password(unicode_password)\n",
    "assert verify_password(unicode_password, unicode_hash) == True\n",
    "\n",
    "# Test with None/null handling (should raise AttributeError)\n",
    "try:\n",
    "    hash_password(None)\n",
    "    assert False, \"Should have raised AttributeError\"\n",
    "except AttributeError:\n",
    "    pass\n",
    "\n",
    "# Test corrupted hash\n",
    "assert verify_password(\"test\", \"$2b$12$corrupted\") == False\n",
    "assert verify_password(\"test\", \"not_a_bcrypt_hash\") == False\n",
    "\n",
    "print(\"✓ Edge case tests passed\")"
   ]
  },
  {
   "cell_type": "code",
   "execution_count": null,
   "metadata": {},
   "outputs": [],
   "source": [
    "#| hide\n",
    "import nbdev; nbdev.nbdev_export()"
   ]
  },
  {
   "cell_type": "markdown",
   "metadata": {},
   "source": [
    "## Performance Benchmarks\n",
    "\n",
    "Understanding the performance characteristics of authentication operations is crucial for capacity planning."
   ]
  },
  {
   "cell_type": "code",
   "execution_count": null,
   "metadata": {},
   "outputs": [
    {
     "name": "stdout",
     "output_type": "stream",
     "text": [
      "Running performance benchmarks...\n",
      "\n",
      "Password hashing performance by cost factor:\n",
      "  Cost 10: 0.042s (recommended: No)\n",
      "  Cost 11: 0.084s (recommended: No)\n",
      "  Cost 12: 0.183s (recommended: Yes)\n",
      "  Cost 13: 0.357s (recommended: Yes)\n",
      "  Cost 14: 0.673s (recommended: No)\n",
      "\n",
      "Password verification performance:\n",
      "  Average verification time: 0.168s\n",
      "  Verifications per second: 6\n",
      "\n",
      "Token operations performance:\n",
      "  Token creation: 0.002ms\n",
      "  Token verification: 0.000ms\n",
      "  Operations per second: 572992\n",
      "\n",
      "✓ Performance benchmarks completed\n"
     ]
    }
   ],
   "source": [
    "#| hide\n",
    "# Comprehensive performance benchmarks\n",
    "import time\n",
    "import statistics\n",
    "\n",
    "print(\"Running performance benchmarks...\")\n",
    "\n",
    "# Benchmark password hashing with different cost factors\n",
    "def benchmark_cost_factor(cost):\n",
    "    times = []\n",
    "    for _ in range(3):\n",
    "        start = time.time()\n",
    "        salt = bcrypt.gensalt(rounds=cost)\n",
    "        bcrypt.hashpw(b\"benchmark_password\", salt)\n",
    "        times.append(time.time() - start)\n",
    "    return statistics.mean(times)\n",
    "\n",
    "print(\"\\nPassword hashing performance by cost factor:\")\n",
    "for cost in [10, 11, 12, 13, 14]:\n",
    "    avg_time = benchmark_cost_factor(cost)\n",
    "    print(f\"  Cost {cost}: {avg_time:.3f}s (recommended: {'Yes' if 0.1 <= avg_time <= 0.5 else 'No'})\")\n",
    "\n",
    "# Benchmark verification\n",
    "print(\"\\nPassword verification performance:\")\n",
    "test_hash = hash_password(\"benchmark_password\")\n",
    "verify_times = []\n",
    "for _ in range(10):\n",
    "    start = time.time()\n",
    "    verify_password(\"benchmark_password\", test_hash)\n",
    "    verify_times.append(time.time() - start)\n",
    "\n",
    "avg_verify = statistics.mean(verify_times)\n",
    "print(f\"  Average verification time: {avg_verify:.3f}s\")\n",
    "print(f\"  Verifications per second: {1/avg_verify:.0f}\")\n",
    "\n",
    "# Token operations benchmark\n",
    "print(\"\\nToken operations performance:\")\n",
    "token_create_times = []\n",
    "token_verify_times = []\n",
    "\n",
    "for i in range(100):\n",
    "    start = time.time()\n",
    "    token = create_auth_token(i)\n",
    "    token_create_times.append(time.time() - start)\n",
    "    \n",
    "    start = time.time()\n",
    "    verify_auth_token(token)\n",
    "    token_verify_times.append(time.time() - start)\n",
    "\n",
    "print(f\"  Token creation: {statistics.mean(token_create_times)*1000:.3f}ms\")\n",
    "print(f\"  Token verification: {statistics.mean(token_verify_times)*1000:.3f}ms\")\n",
    "print(f\"  Operations per second: {1/statistics.mean(token_create_times):.0f}\")\n",
    "\n",
    "print(\"\\n✓ Performance benchmarks completed\")"
   ]
  }
 ],
 "metadata": {
  "kernelspec": {
   "display_name": "python3",
   "language": "python",
   "name": "python3"
  }
 },
 "nbformat": 4,
 "nbformat_minor": 4
}
