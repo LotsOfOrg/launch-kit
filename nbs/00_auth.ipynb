{
 "cells": [
  {
   "cell_type": "markdown",
   "metadata": {},
   "source": [
    "# Core Authentication Utilities\n",
    "\n",
    "> Simple, transparent authentication utilities for FastHTML applications"
   ]
  },
  {
   "cell_type": "code",
   "execution_count": null,
   "metadata": {},
   "outputs": [],
   "source": [
    "#| default_exp auth"
   ]
  },
  {
   "cell_type": "code",
   "execution_count": null,
   "metadata": {},
   "outputs": [],
   "source": [
    "#| hide\n",
    "from nbdev.showdoc import *"
   ]
  },
  {
   "cell_type": "code",
   "execution_count": null,
   "metadata": {},
   "outputs": [],
   "source": [
    "#| export\n",
    "import bcrypt\n",
    "import secrets\n",
    "from typing import Optional, Dict, Any\n",
    "from functools import wraps"
   ]
  },
  {
   "cell_type": "markdown",
   "metadata": {},
   "source": [
    "## Password Hashing\n",
    "\n",
    "Launch Kit provides simple utilities for secure password hashing using bcrypt. These functions are transparent and composable - you can see exactly what they do and use them however you need."
   ]
  },
  {
   "cell_type": "code",
   "execution_count": null,
   "metadata": {},
   "outputs": [],
   "source": [
    "#| export\n",
    "def hash_password(password: str) -> str:\n",
    "    \"\"\"Hash a password using bcrypt with a cost factor of 12.\n",
    "    \n",
    "    Args:\n",
    "        password: Plain text password to hash\n",
    "        \n",
    "    Returns:\n",
    "        Hashed password as a string for database storage\n",
    "    \"\"\"\n",
    "    # Cost factor of 12 is recommended for 2024\n",
    "    # This takes ~250ms on modern hardware\n",
    "    salt = bcrypt.gensalt(rounds=12)\n",
    "    hashed = bcrypt.hashpw(password.encode('utf-8'), salt)\n",
    "    return hashed.decode('utf-8')"
   ]
  },
  {
   "cell_type": "code",
   "execution_count": null,
   "metadata": {},
   "outputs": [],
   "source": [
    "#| export\n",
    "def verify_password(password: str, hashed: str) -> bool:\n",
    "    \"\"\"Verify a password against a bcrypt hash.\n",
    "    \n",
    "    Uses timing-safe comparison to prevent timing attacks.\n",
    "    \n",
    "    Args:\n",
    "        password: Plain text password to verify\n",
    "        hashed: Bcrypt hash from the database\n",
    "        \n",
    "    Returns:\n",
    "        True if password matches, False otherwise\n",
    "    \"\"\"\n",
    "    try:\n",
    "        return bcrypt.checkpw(\n",
    "            password.encode('utf-8'), \n",
    "            hashed.encode('utf-8')\n",
    "        )\n",
    "    except (ValueError, TypeError):\n",
    "        # Invalid hash format\n",
    "        return False"
   ]
  },
  {
   "cell_type": "markdown",
   "metadata": {},
   "source": [
    "### Example Usage\n",
    "\n",
    "Here's how you use these password utilities in your FastHTML application:"
   ]
  },
  {
   "cell_type": "code",
   "execution_count": null,
   "metadata": {},
   "outputs": [],
   "source": [
    "# Hash a password when user signs up\n",
    "password = \"secure_password123\"\n",
    "hashed = hash_password(password)\n",
    "print(f\"Hashed password: {hashed}\")\n",
    "\n",
    "# Verify password when user logs in\n",
    "is_valid = verify_password(password, hashed)\n",
    "print(f\"Password valid: {is_valid}\")\n",
    "\n",
    "# Test with wrong password\n",
    "wrong_password = \"wrong_password\"\n",
    "is_valid = verify_password(wrong_password, hashed)\n",
    "print(f\"Wrong password valid: {is_valid}\")"
   ]
  },
  {
   "cell_type": "markdown",
   "metadata": {},
   "source": [
    "## Session Management\n",
    "\n",
    "These utilities work with FastHTML's session system to manage user authentication state."
   ]
  },
  {
   "cell_type": "code",
   "execution_count": null,
   "metadata": {},
   "outputs": [],
   "source": [
    "#| export\n",
    "def user_auth_before(req, sess):\n",
    "    \"\"\"Beforeware function to check authentication status.\n",
    "    \n",
    "    Checks if user is authenticated by looking for 'auth' key in session.\n",
    "    If authenticated, loads user data into the session.\n",
    "    \n",
    "    Args:\n",
    "        req: FastHTML request object\n",
    "        sess: FastHTML session object\n",
    "        \n",
    "    Usage:\n",
    "        beforeware = Beforeware(\n",
    "            user_auth_before,\n",
    "            skip=['/auth/login', '/auth/signup', '/static/.*']\n",
    "        )\n",
    "    \"\"\"\n",
    "    # Check if user is authenticated\n",
    "    if 'auth' in sess and sess.get('auth'):\n",
    "        # User is authenticated, ensure user data is in session\n",
    "        if 'user' not in sess:\n",
    "            # In a real app, you'd fetch from database here\n",
    "            # For now, we'll just ensure the structure exists\n",
    "            user_id = sess.get('user_id')\n",
    "            if user_id:\n",
    "                # This is where you'd load user from database\n",
    "                # sess['user'] = get_user_by_id(user_id)\n",
    "                pass\n",
    "    else:\n",
    "        # Clear any stale user data if not authenticated\n",
    "        sess.pop('user', None)\n",
    "        sess.pop('user_id', None)"
   ]
  },
  {
   "cell_type": "code",
   "execution_count": null,
   "metadata": {},
   "outputs": [],
   "source": [
    "#| export\n",
    "def get_user_from_session(sess) -> Optional[Dict[str, Any]]:\n",
    "    \"\"\"Extract user data from session.\n",
    "    \n",
    "    Args:\n",
    "        sess: FastHTML session object\n",
    "        \n",
    "    Returns:\n",
    "        User dictionary if authenticated, None otherwise\n",
    "    \"\"\"\n",
    "    if sess.get('auth') and 'user' in sess:\n",
    "        return sess['user']\n",
    "    return None"
   ]
  },
  {
   "cell_type": "markdown",
   "metadata": {},
   "source": [
    "## Authentication Tokens\n",
    "\n",
    "For remember-me functionality and API authentication, we provide simple token utilities."
   ]
  },
  {
   "cell_type": "code",
   "execution_count": null,
   "metadata": {},
   "outputs": [],
   "source": [
    "#| export\n",
    "def create_auth_token(user_id: int) -> str:\n",
    "    \"\"\"Create a secure authentication token for a user.\n",
    "    \n",
    "    Args:\n",
    "        user_id: ID of the user to create token for\n",
    "        \n",
    "    Returns:\n",
    "        Secure random token string\n",
    "        \n",
    "    Note:\n",
    "        In production, you'd store this token in your database\n",
    "        with an expiration date and associate it with the user.\n",
    "    \"\"\"\n",
    "    # Generate a secure random token\n",
    "    token = secrets.token_urlsafe(32)\n",
    "    # In a real app, you'd store: token -> user_id mapping in database\n",
    "    return f\"{user_id}:{token}\""
   ]
  },
  {
   "cell_type": "code",
   "execution_count": null,
   "metadata": {},
   "outputs": [],
   "source": [
    "#| export\n",
    "def verify_auth_token(token: str) -> Optional[int]:\n",
    "    \"\"\"Verify an authentication token and return the user ID.\n",
    "    \n",
    "    Args:\n",
    "        token: Authentication token to verify\n",
    "        \n",
    "    Returns:\n",
    "        User ID if token is valid, None otherwise\n",
    "        \n",
    "    Note:\n",
    "        In production, you'd look up this token in your database\n",
    "        and check expiration.\n",
    "    \"\"\"\n",
    "    try:\n",
    "        # Simple parsing for demo - in production, look up in database\n",
    "        parts = token.split(':', 1)\n",
    "        if len(parts) == 2:\n",
    "            user_id = int(parts[0])\n",
    "            # In real app: verify token exists in DB and not expired\n",
    "            return user_id\n",
    "    except (ValueError, TypeError):\n",
    "        pass\n",
    "    return None"
   ]
  },
  {
   "cell_type": "markdown",
   "metadata": {},
   "source": [
    "### Token Example"
   ]
  },
  {
   "cell_type": "code",
   "execution_count": null,
   "metadata": {},
   "outputs": [],
   "source": [
    "# Create a token for user ID 123\n",
    "token = create_auth_token(123)\n",
    "print(f\"Auth token: {token}\")\n",
    "\n",
    "# Verify the token\n",
    "user_id = verify_auth_token(token)\n",
    "print(f\"Verified user ID: {user_id}\")\n",
    "\n",
    "# Test with invalid token\n",
    "invalid_token = \"invalid_token\"\n",
    "user_id = verify_auth_token(invalid_token)\n",
    "print(f\"Invalid token result: {user_id}\")"
   ]
  },
  {
   "cell_type": "markdown",
   "metadata": {},
   "source": [
    "## Security Considerations\n",
    "\n",
    "When using these authentication utilities:\n",
    "\n",
    "1. **Password Requirements**: Implement minimum password requirements in your application\n",
    "2. **Rate Limiting**: Use the rate limiting middleware to prevent brute force attacks\n",
    "3. **Session Security**: Configure secure session cookies in production\n",
    "4. **Token Storage**: Store auth tokens in a database with expiration times\n",
    "5. **HTTPS Only**: Always use HTTPS in production to protect credentials in transit\n",
    "\n",
    "## Integration with FastHTML\n",
    "\n",
    "Here's a complete example of how to use these utilities in a FastHTML app:\n",
    "\n",
    "```python\n",
    "from fasthtml.common import *\n",
    "from launch_kit.auth import hash_password, verify_password, user_auth_before\n",
    "\n",
    "app, rt = fast_app()\n",
    "\n",
    "# Set up authentication beforeware\n",
    "beforeware = Beforeware(\n",
    "    user_auth_before,\n",
    "    skip=['/auth/login', '/auth/signup', '/static/.*']\n",
    ")\n",
    "\n",
    "@rt('/auth/signup')\n",
    "def post(email: str, password: str, sess):\n",
    "    # Hash the password\n",
    "    hashed = hash_password(password)\n",
    "    \n",
    "    # Save user to database (pseudo-code)\n",
    "    # user = create_user(email=email, password=hashed)\n",
    "    \n",
    "    # Set session\n",
    "    sess['auth'] = True\n",
    "    sess['user_id'] = user.id\n",
    "    sess['user'] = {'id': user.id, 'email': email}\n",
    "    \n",
    "    return RedirectResponse('/')\n",
    "\n",
    "@rt('/auth/login')\n",
    "def post(email: str, password: str, sess):\n",
    "    # Get user from database (pseudo-code)\n",
    "    # user = get_user_by_email(email)\n",
    "    \n",
    "    if user and verify_password(password, user.password):\n",
    "        # Login successful\n",
    "        sess['auth'] = True\n",
    "        sess['user_id'] = user.id\n",
    "        sess['user'] = {'id': user.id, 'email': email}\n",
    "        return RedirectResponse('/')\n",
    "    else:\n",
    "        # Login failed\n",
    "        return \"Invalid credentials\", 401\n",
    "```\n",
    "\n",
    "These utilities are designed to be simple and transparent. You can see exactly what they do and modify them to fit your needs."
   ]
  },
  {
   "cell_type": "markdown",
   "metadata": {},
   "source": [
    "## Testing"
   ]
  },
  {
   "cell_type": "code",
   "execution_count": null,
   "metadata": {},
   "outputs": [],
   "source": [
    "#| hide\n",
    "# Test password hashing\n",
    "test_password = \"test_password_123!\"\n",
    "hashed = hash_password(test_password)\n",
    "\n",
    "# Ensure hash is different from password\n",
    "assert hashed != test_password\n",
    "assert len(hashed) == 60  # bcrypt hashes are always 60 chars\n",
    "assert hashed.startswith('$2b$')  # bcrypt prefix\n",
    "\n",
    "# Test password verification\n",
    "assert verify_password(test_password, hashed) == True\n",
    "assert verify_password(\"wrong_password\", hashed) == False\n",
    "\n",
    "# Test with empty password\n",
    "empty_hash = hash_password(\"\")\n",
    "assert verify_password(\"\", empty_hash) == True\n",
    "assert verify_password(\"not_empty\", empty_hash) == False\n",
    "\n",
    "# Test invalid hash handling\n",
    "assert verify_password(\"any_password\", \"invalid_hash\") == False\n",
    "assert verify_password(\"any_password\", \"\") == False\n",
    "\n",
    "print(\"✓ Password hashing tests passed\")"
   ]
  },
  {
   "cell_type": "code",
   "execution_count": null,
   "metadata": {},
   "outputs": [],
   "source": [
    "#| hide\n",
    "# Test token creation and verification\n",
    "user_id = 42\n",
    "token = create_auth_token(user_id)\n",
    "\n",
    "# Token should contain user ID and random part\n",
    "assert ':' in token\n",
    "assert token.startswith(f\"{user_id}:\")\n",
    "\n",
    "# Verify token returns correct user ID\n",
    "verified_id = verify_auth_token(token)\n",
    "assert verified_id == user_id\n",
    "\n",
    "# Test invalid tokens\n",
    "assert verify_auth_token(\"invalid\") is None\n",
    "assert verify_auth_token(\"\") is None\n",
    "assert verify_auth_token(\"no_colon\") is None\n",
    "assert verify_auth_token(\"not_a_number:token\") is None\n",
    "\n",
    "print(\"✓ Token tests passed\")"
   ]
  },
  {
   "cell_type": "code",
   "execution_count": null,
   "metadata": {},
   "outputs": [],
   "source": [
    "#| hide\n",
    "# Test session utilities\n",
    "mock_sess = {}\n",
    "\n",
    "# Test get_user_from_session with no auth\n",
    "assert get_user_from_session(mock_sess) is None\n",
    "\n",
    "# Test with auth but no user\n",
    "mock_sess['auth'] = True\n",
    "assert get_user_from_session(mock_sess) is None\n",
    "\n",
    "# Test with auth and user\n",
    "mock_sess['user'] = {'id': 1, 'email': 'test@example.com'}\n",
    "user = get_user_from_session(mock_sess)\n",
    "assert user is not None\n",
    "assert user['id'] == 1\n",
    "assert user['email'] == 'test@example.com'\n",
    "\n",
    "# Test user_auth_before\n",
    "mock_req = None  # Not used in our implementation\n",
    "test_sess = {'auth': True, 'user_id': 123}\n",
    "user_auth_before(mock_req, test_sess)\n",
    "# Should preserve auth and user_id\n",
    "assert test_sess.get('auth') == True\n",
    "assert test_sess.get('user_id') == 123\n",
    "\n",
    "# Test cleanup when not authenticated\n",
    "test_sess = {'user': 'stale_data', 'user_id': 999}\n",
    "user_auth_before(mock_req, test_sess)\n",
    "# Should clean up stale data\n",
    "assert 'user' not in test_sess\n",
    "assert 'user_id' not in test_sess\n",
    "\n",
    "print(\"✓ Session management tests passed\")"
   ]
  },
  {
   "cell_type": "code",
   "execution_count": null,
   "metadata": {},
   "outputs": [],
   "source": [
    "#| hide\n",
    "# Performance benchmark for password hashing\n",
    "import time\n",
    "\n",
    "start = time.time()\n",
    "hash_password(\"benchmark_password\")\n",
    "duration = time.time() - start\n",
    "\n",
    "print(f\"Password hashing took: {duration:.3f} seconds\")\n",
    "print(f\"This is {'acceptable' if duration < 0.5 else 'slow'} for production use\")"
   ]
  },
  {
   "cell_type": "code",
   "execution_count": null,
   "metadata": {},
   "outputs": [],
   "source": [
    "#| hide\n",
    "import nbdev; nbdev.nbdev_export()"
   ]
  }
 ],
 "metadata": {
  "kernelspec": {
   "display_name": "python3",
   "language": "python",
   "name": "python3"
  }
 },
 "nbformat": 4,
 "nbformat_minor": 4
}
